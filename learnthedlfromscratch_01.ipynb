{
  "metadata": {
    "kernelspec": {
      "language": "python",
      "display_name": "Python 3",
      "name": "python3"
    },
    "language_info": {
      "name": "python",
      "version": "3.10.12",
      "mimetype": "text/x-python",
      "codemirror_mode": {
        "name": "ipython",
        "version": 3
      },
      "pygments_lexer": "ipython3",
      "nbconvert_exporter": "python",
      "file_extension": ".py"
    },
    "colab": {
      "provenance": [],
      "include_colab_link": true
    }
  },
  "nbformat_minor": 0,
  "nbformat": 4,
  "cells": [
    {
      "cell_type": "markdown",
      "metadata": {
        "id": "view-in-github",
        "colab_type": "text"
      },
      "source": [
        "<a href=\"https://colab.research.google.com/github/prakashdassr/Simple-MNIST-NN-from-scratch/blob/main/learnthedlfromscratch_01.ipynb\" target=\"_parent\"><img src=\"https://colab.research.google.com/assets/colab-badge.svg\" alt=\"Open In Colab\"/></a>"
      ]
    },
    {
      "cell_type": "markdown",
      "source": [
        "# LearnTheDLFromScratch - 001\n",
        "\n",
        "I developed this Project to Get into the Deeplearing and Machine Learning. Kindy do contact me if any helps or suggestions needed. <br>\n",
        "* [LinkedIn](https://www.linkedin.com/in/prakash-rr/)\n",
        "* [GitHub](https://github.com/prakash02100)"
      ],
      "metadata": {
        "id": "MhzRxLNRFye4"
      }
    },
    {
      "cell_type": "markdown",
      "source": [
        "The MNIST handwritten digit database is a large collection of handwritten digits, consisting of a training set of 60,000 examples and a test set of 10,000 examples.2 It was constructed from NIST's Special Database 3 and Special Database 1, which contain binary images of handwritten digits.1 SD-3 is cleaner and easier to recognize than SD-1. The MNIST dataset is a popular dataset in the field of image processing and is often used for benchmarking machine learning algorithms.0\n",
        "\n",
        "> MNIST stands for Modified National Institute of Standards and Technology."
      ],
      "metadata": {
        "id": "gMhPr1oZFye8"
      }
    },
    {
      "cell_type": "code",
      "source": [
        "import numpy as np\n",
        "import pandas as pd\n",
        "from matplotlib import pyplot as plt\n",
        "\n"
      ],
      "metadata": {
        "execution": {
          "iopub.status.busy": "2023-11-05T08:55:11.278180Z",
          "iopub.execute_input": "2023-11-05T08:55:11.278699Z",
          "iopub.status.idle": "2023-11-05T08:55:11.603814Z",
          "shell.execute_reply.started": "2023-11-05T08:55:11.278671Z",
          "shell.execute_reply": "2023-11-05T08:55:11.602696Z"
        },
        "trusted": true,
        "id": "MDjJXY5tFye9"
      },
      "execution_count": null,
      "outputs": []
    },
    {
      "cell_type": "code",
      "source": [
        "data = pd.read_csv('/content/sample_data/mnist_test.csv')"
      ],
      "metadata": {
        "execution": {
          "iopub.status.busy": "2023-11-05T08:55:11.605890Z",
          "iopub.execute_input": "2023-11-05T08:55:11.606453Z",
          "iopub.status.idle": "2023-11-05T08:55:14.189394Z",
          "shell.execute_reply.started": "2023-11-05T08:55:11.606428Z",
          "shell.execute_reply": "2023-11-05T08:55:14.188295Z"
        },
        "trusted": true,
        "id": "zvOj_LHRFyfA"
      },
      "execution_count": null,
      "outputs": []
    },
    {
      "cell_type": "code",
      "source": [
        "from google.colab import drive\n",
        "drive.mount('/content/drive')"
      ],
      "metadata": {
        "id": "KwaYWU9vGXlv"
      },
      "execution_count": null,
      "outputs": []
    },
    {
      "cell_type": "code",
      "source": [
        "data.head()"
      ],
      "metadata": {
        "execution": {
          "iopub.status.busy": "2023-11-05T08:55:14.190499Z",
          "iopub.execute_input": "2023-11-05T08:55:14.190748Z",
          "iopub.status.idle": "2023-11-05T08:55:14.218253Z",
          "shell.execute_reply.started": "2023-11-05T08:55:14.190727Z",
          "shell.execute_reply": "2023-11-05T08:55:14.217238Z"
        },
        "trusted": true,
        "colab": {
          "base_uri": "https://localhost:8080/",
          "height": 256
        },
        "id": "io5emVQ-FyfA",
        "outputId": "84610029-3913-4b87-8cd3-822990aba042"
      },
      "execution_count": null,
      "outputs": [
        {
          "output_type": "execute_result",
          "data": {
            "text/plain": [
              "   7  0  0.1  0.2  0.3  0.4  0.5  0.6  0.7  0.8  ...  0.658  0.659  0.660  \\\n",
              "0  2  0    0    0    0    0    0    0    0    0  ...      0      0      0   \n",
              "1  1  0    0    0    0    0    0    0    0    0  ...      0      0      0   \n",
              "2  0  0    0    0    0    0    0    0    0    0  ...      0      0      0   \n",
              "3  4  0    0    0    0    0    0    0    0    0  ...      0      0      0   \n",
              "4  1  0    0    0    0    0    0    0    0    0  ...      0      0      0   \n",
              "\n",
              "   0.661  0.662  0.663  0.664  0.665  0.666  0.667  \n",
              "0      0      0      0      0      0      0      0  \n",
              "1      0      0      0      0      0      0      0  \n",
              "2      0      0      0      0      0      0      0  \n",
              "3      0      0      0      0      0      0      0  \n",
              "4      0      0      0      0      0      0      0  \n",
              "\n",
              "[5 rows x 785 columns]"
            ],
            "text/html": [
              "\n",
              "  <div id=\"df-e49acbd8-229a-4374-90f5-1fe892cd98b3\" class=\"colab-df-container\">\n",
              "    <div>\n",
              "<style scoped>\n",
              "    .dataframe tbody tr th:only-of-type {\n",
              "        vertical-align: middle;\n",
              "    }\n",
              "\n",
              "    .dataframe tbody tr th {\n",
              "        vertical-align: top;\n",
              "    }\n",
              "\n",
              "    .dataframe thead th {\n",
              "        text-align: right;\n",
              "    }\n",
              "</style>\n",
              "<table border=\"1\" class=\"dataframe\">\n",
              "  <thead>\n",
              "    <tr style=\"text-align: right;\">\n",
              "      <th></th>\n",
              "      <th>7</th>\n",
              "      <th>0</th>\n",
              "      <th>0.1</th>\n",
              "      <th>0.2</th>\n",
              "      <th>0.3</th>\n",
              "      <th>0.4</th>\n",
              "      <th>0.5</th>\n",
              "      <th>0.6</th>\n",
              "      <th>0.7</th>\n",
              "      <th>0.8</th>\n",
              "      <th>...</th>\n",
              "      <th>0.658</th>\n",
              "      <th>0.659</th>\n",
              "      <th>0.660</th>\n",
              "      <th>0.661</th>\n",
              "      <th>0.662</th>\n",
              "      <th>0.663</th>\n",
              "      <th>0.664</th>\n",
              "      <th>0.665</th>\n",
              "      <th>0.666</th>\n",
              "      <th>0.667</th>\n",
              "    </tr>\n",
              "  </thead>\n",
              "  <tbody>\n",
              "    <tr>\n",
              "      <th>0</th>\n",
              "      <td>2</td>\n",
              "      <td>0</td>\n",
              "      <td>0</td>\n",
              "      <td>0</td>\n",
              "      <td>0</td>\n",
              "      <td>0</td>\n",
              "      <td>0</td>\n",
              "      <td>0</td>\n",
              "      <td>0</td>\n",
              "      <td>0</td>\n",
              "      <td>...</td>\n",
              "      <td>0</td>\n",
              "      <td>0</td>\n",
              "      <td>0</td>\n",
              "      <td>0</td>\n",
              "      <td>0</td>\n",
              "      <td>0</td>\n",
              "      <td>0</td>\n",
              "      <td>0</td>\n",
              "      <td>0</td>\n",
              "      <td>0</td>\n",
              "    </tr>\n",
              "    <tr>\n",
              "      <th>1</th>\n",
              "      <td>1</td>\n",
              "      <td>0</td>\n",
              "      <td>0</td>\n",
              "      <td>0</td>\n",
              "      <td>0</td>\n",
              "      <td>0</td>\n",
              "      <td>0</td>\n",
              "      <td>0</td>\n",
              "      <td>0</td>\n",
              "      <td>0</td>\n",
              "      <td>...</td>\n",
              "      <td>0</td>\n",
              "      <td>0</td>\n",
              "      <td>0</td>\n",
              "      <td>0</td>\n",
              "      <td>0</td>\n",
              "      <td>0</td>\n",
              "      <td>0</td>\n",
              "      <td>0</td>\n",
              "      <td>0</td>\n",
              "      <td>0</td>\n",
              "    </tr>\n",
              "    <tr>\n",
              "      <th>2</th>\n",
              "      <td>0</td>\n",
              "      <td>0</td>\n",
              "      <td>0</td>\n",
              "      <td>0</td>\n",
              "      <td>0</td>\n",
              "      <td>0</td>\n",
              "      <td>0</td>\n",
              "      <td>0</td>\n",
              "      <td>0</td>\n",
              "      <td>0</td>\n",
              "      <td>...</td>\n",
              "      <td>0</td>\n",
              "      <td>0</td>\n",
              "      <td>0</td>\n",
              "      <td>0</td>\n",
              "      <td>0</td>\n",
              "      <td>0</td>\n",
              "      <td>0</td>\n",
              "      <td>0</td>\n",
              "      <td>0</td>\n",
              "      <td>0</td>\n",
              "    </tr>\n",
              "    <tr>\n",
              "      <th>3</th>\n",
              "      <td>4</td>\n",
              "      <td>0</td>\n",
              "      <td>0</td>\n",
              "      <td>0</td>\n",
              "      <td>0</td>\n",
              "      <td>0</td>\n",
              "      <td>0</td>\n",
              "      <td>0</td>\n",
              "      <td>0</td>\n",
              "      <td>0</td>\n",
              "      <td>...</td>\n",
              "      <td>0</td>\n",
              "      <td>0</td>\n",
              "      <td>0</td>\n",
              "      <td>0</td>\n",
              "      <td>0</td>\n",
              "      <td>0</td>\n",
              "      <td>0</td>\n",
              "      <td>0</td>\n",
              "      <td>0</td>\n",
              "      <td>0</td>\n",
              "    </tr>\n",
              "    <tr>\n",
              "      <th>4</th>\n",
              "      <td>1</td>\n",
              "      <td>0</td>\n",
              "      <td>0</td>\n",
              "      <td>0</td>\n",
              "      <td>0</td>\n",
              "      <td>0</td>\n",
              "      <td>0</td>\n",
              "      <td>0</td>\n",
              "      <td>0</td>\n",
              "      <td>0</td>\n",
              "      <td>...</td>\n",
              "      <td>0</td>\n",
              "      <td>0</td>\n",
              "      <td>0</td>\n",
              "      <td>0</td>\n",
              "      <td>0</td>\n",
              "      <td>0</td>\n",
              "      <td>0</td>\n",
              "      <td>0</td>\n",
              "      <td>0</td>\n",
              "      <td>0</td>\n",
              "    </tr>\n",
              "  </tbody>\n",
              "</table>\n",
              "<p>5 rows × 785 columns</p>\n",
              "</div>\n",
              "    <div class=\"colab-df-buttons\">\n",
              "\n",
              "  <div class=\"colab-df-container\">\n",
              "    <button class=\"colab-df-convert\" onclick=\"convertToInteractive('df-e49acbd8-229a-4374-90f5-1fe892cd98b3')\"\n",
              "            title=\"Convert this dataframe to an interactive table.\"\n",
              "            style=\"display:none;\">\n",
              "\n",
              "  <svg xmlns=\"http://www.w3.org/2000/svg\" height=\"24px\" viewBox=\"0 -960 960 960\">\n",
              "    <path d=\"M120-120v-720h720v720H120Zm60-500h600v-160H180v160Zm220 220h160v-160H400v160Zm0 220h160v-160H400v160ZM180-400h160v-160H180v160Zm440 0h160v-160H620v160ZM180-180h160v-160H180v160Zm440 0h160v-160H620v160Z\"/>\n",
              "  </svg>\n",
              "    </button>\n",
              "\n",
              "  <style>\n",
              "    .colab-df-container {\n",
              "      display:flex;\n",
              "      gap: 12px;\n",
              "    }\n",
              "\n",
              "    .colab-df-convert {\n",
              "      background-color: #E8F0FE;\n",
              "      border: none;\n",
              "      border-radius: 50%;\n",
              "      cursor: pointer;\n",
              "      display: none;\n",
              "      fill: #1967D2;\n",
              "      height: 32px;\n",
              "      padding: 0 0 0 0;\n",
              "      width: 32px;\n",
              "    }\n",
              "\n",
              "    .colab-df-convert:hover {\n",
              "      background-color: #E2EBFA;\n",
              "      box-shadow: 0px 1px 2px rgba(60, 64, 67, 0.3), 0px 1px 3px 1px rgba(60, 64, 67, 0.15);\n",
              "      fill: #174EA6;\n",
              "    }\n",
              "\n",
              "    .colab-df-buttons div {\n",
              "      margin-bottom: 4px;\n",
              "    }\n",
              "\n",
              "    [theme=dark] .colab-df-convert {\n",
              "      background-color: #3B4455;\n",
              "      fill: #D2E3FC;\n",
              "    }\n",
              "\n",
              "    [theme=dark] .colab-df-convert:hover {\n",
              "      background-color: #434B5C;\n",
              "      box-shadow: 0px 1px 3px 1px rgba(0, 0, 0, 0.15);\n",
              "      filter: drop-shadow(0px 1px 2px rgba(0, 0, 0, 0.3));\n",
              "      fill: #FFFFFF;\n",
              "    }\n",
              "  </style>\n",
              "\n",
              "    <script>\n",
              "      const buttonEl =\n",
              "        document.querySelector('#df-e49acbd8-229a-4374-90f5-1fe892cd98b3 button.colab-df-convert');\n",
              "      buttonEl.style.display =\n",
              "        google.colab.kernel.accessAllowed ? 'block' : 'none';\n",
              "\n",
              "      async function convertToInteractive(key) {\n",
              "        const element = document.querySelector('#df-e49acbd8-229a-4374-90f5-1fe892cd98b3');\n",
              "        const dataTable =\n",
              "          await google.colab.kernel.invokeFunction('convertToInteractive',\n",
              "                                                    [key], {});\n",
              "        if (!dataTable) return;\n",
              "\n",
              "        const docLinkHtml = 'Like what you see? Visit the ' +\n",
              "          '<a target=\"_blank\" href=https://colab.research.google.com/notebooks/data_table.ipynb>data table notebook</a>'\n",
              "          + ' to learn more about interactive tables.';\n",
              "        element.innerHTML = '';\n",
              "        dataTable['output_type'] = 'display_data';\n",
              "        await google.colab.output.renderOutput(dataTable, element);\n",
              "        const docLink = document.createElement('div');\n",
              "        docLink.innerHTML = docLinkHtml;\n",
              "        element.appendChild(docLink);\n",
              "      }\n",
              "    </script>\n",
              "  </div>\n",
              "\n",
              "\n",
              "<div id=\"df-341ac418-aab9-45c1-8876-571e838ca21c\">\n",
              "  <button class=\"colab-df-quickchart\" onclick=\"quickchart('df-341ac418-aab9-45c1-8876-571e838ca21c')\"\n",
              "            title=\"Suggest charts.\"\n",
              "            style=\"display:none;\">\n",
              "\n",
              "<svg xmlns=\"http://www.w3.org/2000/svg\" height=\"24px\"viewBox=\"0 0 24 24\"\n",
              "     width=\"24px\">\n",
              "    <g>\n",
              "        <path d=\"M19 3H5c-1.1 0-2 .9-2 2v14c0 1.1.9 2 2 2h14c1.1 0 2-.9 2-2V5c0-1.1-.9-2-2-2zM9 17H7v-7h2v7zm4 0h-2V7h2v10zm4 0h-2v-4h2v4z\"/>\n",
              "    </g>\n",
              "</svg>\n",
              "  </button>\n",
              "\n",
              "<style>\n",
              "  .colab-df-quickchart {\n",
              "      --bg-color: #E8F0FE;\n",
              "      --fill-color: #1967D2;\n",
              "      --hover-bg-color: #E2EBFA;\n",
              "      --hover-fill-color: #174EA6;\n",
              "      --disabled-fill-color: #AAA;\n",
              "      --disabled-bg-color: #DDD;\n",
              "  }\n",
              "\n",
              "  [theme=dark] .colab-df-quickchart {\n",
              "      --bg-color: #3B4455;\n",
              "      --fill-color: #D2E3FC;\n",
              "      --hover-bg-color: #434B5C;\n",
              "      --hover-fill-color: #FFFFFF;\n",
              "      --disabled-bg-color: #3B4455;\n",
              "      --disabled-fill-color: #666;\n",
              "  }\n",
              "\n",
              "  .colab-df-quickchart {\n",
              "    background-color: var(--bg-color);\n",
              "    border: none;\n",
              "    border-radius: 50%;\n",
              "    cursor: pointer;\n",
              "    display: none;\n",
              "    fill: var(--fill-color);\n",
              "    height: 32px;\n",
              "    padding: 0;\n",
              "    width: 32px;\n",
              "  }\n",
              "\n",
              "  .colab-df-quickchart:hover {\n",
              "    background-color: var(--hover-bg-color);\n",
              "    box-shadow: 0 1px 2px rgba(60, 64, 67, 0.3), 0 1px 3px 1px rgba(60, 64, 67, 0.15);\n",
              "    fill: var(--button-hover-fill-color);\n",
              "  }\n",
              "\n",
              "  .colab-df-quickchart-complete:disabled,\n",
              "  .colab-df-quickchart-complete:disabled:hover {\n",
              "    background-color: var(--disabled-bg-color);\n",
              "    fill: var(--disabled-fill-color);\n",
              "    box-shadow: none;\n",
              "  }\n",
              "\n",
              "  .colab-df-spinner {\n",
              "    border: 2px solid var(--fill-color);\n",
              "    border-color: transparent;\n",
              "    border-bottom-color: var(--fill-color);\n",
              "    animation:\n",
              "      spin 1s steps(1) infinite;\n",
              "  }\n",
              "\n",
              "  @keyframes spin {\n",
              "    0% {\n",
              "      border-color: transparent;\n",
              "      border-bottom-color: var(--fill-color);\n",
              "      border-left-color: var(--fill-color);\n",
              "    }\n",
              "    20% {\n",
              "      border-color: transparent;\n",
              "      border-left-color: var(--fill-color);\n",
              "      border-top-color: var(--fill-color);\n",
              "    }\n",
              "    30% {\n",
              "      border-color: transparent;\n",
              "      border-left-color: var(--fill-color);\n",
              "      border-top-color: var(--fill-color);\n",
              "      border-right-color: var(--fill-color);\n",
              "    }\n",
              "    40% {\n",
              "      border-color: transparent;\n",
              "      border-right-color: var(--fill-color);\n",
              "      border-top-color: var(--fill-color);\n",
              "    }\n",
              "    60% {\n",
              "      border-color: transparent;\n",
              "      border-right-color: var(--fill-color);\n",
              "    }\n",
              "    80% {\n",
              "      border-color: transparent;\n",
              "      border-right-color: var(--fill-color);\n",
              "      border-bottom-color: var(--fill-color);\n",
              "    }\n",
              "    90% {\n",
              "      border-color: transparent;\n",
              "      border-bottom-color: var(--fill-color);\n",
              "    }\n",
              "  }\n",
              "</style>\n",
              "\n",
              "  <script>\n",
              "    async function quickchart(key) {\n",
              "      const quickchartButtonEl =\n",
              "        document.querySelector('#' + key + ' button');\n",
              "      quickchartButtonEl.disabled = true;  // To prevent multiple clicks.\n",
              "      quickchartButtonEl.classList.add('colab-df-spinner');\n",
              "      try {\n",
              "        const charts = await google.colab.kernel.invokeFunction(\n",
              "            'suggestCharts', [key], {});\n",
              "      } catch (error) {\n",
              "        console.error('Error during call to suggestCharts:', error);\n",
              "      }\n",
              "      quickchartButtonEl.classList.remove('colab-df-spinner');\n",
              "      quickchartButtonEl.classList.add('colab-df-quickchart-complete');\n",
              "    }\n",
              "    (() => {\n",
              "      let quickchartButtonEl =\n",
              "        document.querySelector('#df-341ac418-aab9-45c1-8876-571e838ca21c button');\n",
              "      quickchartButtonEl.style.display =\n",
              "        google.colab.kernel.accessAllowed ? 'block' : 'none';\n",
              "    })();\n",
              "  </script>\n",
              "</div>\n",
              "    </div>\n",
              "  </div>\n"
            ]
          },
          "metadata": {},
          "execution_count": 5
        }
      ]
    },
    {
      "cell_type": "markdown",
      "source": [
        "\n",
        "\n",
        "**Writing the Formula's**"
      ],
      "metadata": {
        "id": "KhcRdqb1FyfC"
      }
    },
    {
      "cell_type": "markdown",
      "source": [
        "**I'm working with a NumPy array and preparing the data for machine learning by splitting it into a development set (dev) and a training set. I'm preprocessing the data by normalizing the input features. Let me explain the code step by step**"
      ],
      "metadata": {
        "id": "NUCKLt6rFyfC"
      }
    },
    {
      "cell_type": "code",
      "source": [
        "data = np.array(data)\n",
        "m, n = data.shape\n",
        "np.random.shuffle(data)\n",
        "# We should shuffle the data before splitting into development or training sets\n",
        "\n",
        "data_dev = data[0:1000].T\n",
        "# We are taking Transpose bcoz we are taking rows as example rather then columns\n",
        "Y_dev = data_dev[0]\n",
        "X_dev = data_dev[1:n]\n",
        "X_dev = X_dev / 255.\n",
        "\n",
        "# . is used to ensure that the division operation is performed as a floating-point division\n",
        "\n",
        "data_train = data[1000:m].T\n",
        "Y_train = data_train[0]\n",
        "X_train = data_train[1:n]\n",
        "X_train = X_train / 255.\n",
        "_,m_train = X_train.shape"
      ],
      "metadata": {
        "execution": {
          "iopub.status.busy": "2023-11-05T08:55:14.219904Z",
          "iopub.execute_input": "2023-11-05T08:55:14.220182Z",
          "iopub.status.idle": "2023-11-05T08:55:14.660739Z",
          "shell.execute_reply.started": "2023-11-05T08:55:14.220159Z",
          "shell.execute_reply": "2023-11-05T08:55:14.659126Z"
        },
        "trusted": true,
        "id": "zAYb5fcDFyfD"
      },
      "execution_count": null,
      "outputs": []
    },
    {
      "cell_type": "markdown",
      "source": [
        "**X_dev = X_dev / 255.: This line normalizes the feature values by dividing them by 255. This is a common preprocessing step for images when pixel values are typically in the range [0, 255] to scale them to a range between 0 and 1.**"
      ],
      "metadata": {
        "id": "j3NAQkQ3FyfD"
      }
    },
    {
      "cell_type": "code",
      "source": [
        "Y_train"
      ],
      "metadata": {
        "execution": {
          "iopub.status.busy": "2023-11-05T08:55:14.664526Z",
          "iopub.execute_input": "2023-11-05T08:55:14.664798Z",
          "iopub.status.idle": "2023-11-05T08:55:14.670985Z",
          "shell.execute_reply.started": "2023-11-05T08:55:14.664777Z",
          "shell.execute_reply": "2023-11-05T08:55:14.669871Z"
        },
        "trusted": true,
        "colab": {
          "base_uri": "https://localhost:8080/"
        },
        "id": "JVh_bwYZFyfD",
        "outputId": "0db0bc5b-625c-488f-df6c-933479b2e8dd"
      },
      "execution_count": null,
      "outputs": [
        {
          "output_type": "execute_result",
          "data": {
            "text/plain": [
              "array([7, 1, 1, ..., 9, 8, 5])"
            ]
          },
          "metadata": {},
          "execution_count": 7
        }
      ]
    },
    {
      "cell_type": "markdown",
      "source": [
        "\n",
        "[**Took From Samsons Note For Understanding the Formulas**](https://www.kaggle.com/code/wwsalmon/simple-mnist-nn-from-scratch-numpy-no-tf-keras)\n",
        "\n",
        "Our NN will have a simple two-layer architecture. Input layer $a^{[0]}$ will have 784 units corresponding to the 784 pixels in each 28x28 input image. A hidden layer $a^{[1]}$ will have 10 units with ReLU activation, and finally our output layer $a^{[2]}$ will have 10 units corresponding to the ten digit classes with softmax activation.\n",
        "\n",
        "**Forward propagation**\n",
        "\n",
        "$$Z^{[1]} = W^{[1]} X + b^{[1]}$$\n",
        "$$A^{[1]} = g_{\\text{ReLU}}(Z^{[1]}))$$\n",
        "$$Z^{[2]} = W^{[2]} A^{[1]} + b^{[2]}$$\n",
        "$$A^{[2]} = g_{\\text{softmax}}(Z^{[2]})$$\n",
        "\n",
        "**Backward propagation**\n",
        "\n",
        "$$dZ^{[2]} = A^{[2]} - Y$$\n",
        "$$dW^{[2]} = \\frac{1}{m} dZ^{[2]} A^{[1]T}$$\n",
        "$$dB^{[2]} = \\frac{1}{m} \\Sigma {dZ^{[2]}}$$\n",
        "$$dZ^{[1]} = W^{[2]T} dZ^{[2]} .* g^{[1]\\prime} (z^{[1]})$$\n",
        "$$dW^{[1]} = \\frac{1}{m} dZ^{[1]} A^{[0]T}$$\n",
        "$$dB^{[1]} = \\frac{1}{m} \\Sigma {dZ^{[1]}}$$\n",
        "\n",
        "**Parameter updates**\n",
        "\n",
        "$$W^{[2]} := W^{[2]} - \\alpha dW^{[2]}$$\n",
        "$$b^{[2]} := b^{[2]} - \\alpha db^{[2]}$$\n",
        "$$W^{[1]} := W^{[1]} - \\alpha dW^{[1]}$$\n",
        "$$b^{[1]} := b^{[1]} - \\alpha db^{[1]}$$\n",
        "\n",
        "**Vars and shapes**\n",
        "\n",
        "Forward prop\n",
        "\n",
        "- $A^{[0]} = X$: 784 x m\n",
        "- $Z^{[1]} \\sim A^{[1]}$: 10 x m\n",
        "- $W^{[1]}$: 10 x 784 (as $W^{[1]} A^{[0]} \\sim Z^{[1]}$)\n",
        "- $B^{[1]}$: 10 x 1\n",
        "- $Z^{[2]} \\sim A^{[2]}$: 10 x m\n",
        "- $W^{[1]}$: 10 x 10 (as $W^{[2]} A^{[1]} \\sim Z^{[2]}$)\n",
        "- $B^{[2]}$: 10 x 1\n",
        "\n",
        "Backprop\n",
        "\n",
        "- $dZ^{[2]}$: 10 x m ($~A^{[2]}$)\n",
        "- $dW^{[2]}$: 10 x 10\n",
        "- $dB^{[2]}$: 10 x 1\n",
        "- $dZ^{[1]}$: 10 x m ($~A^{[1]}$)\n",
        "- $dW^{[1]}$: 10 x 10\n",
        "- $dB^{[1]}$: 10 x 1"
      ],
      "metadata": {
        "id": "PcxPZFmCFyfE"
      }
    },
    {
      "cell_type": "code",
      "source": [
        "def init_params():\n",
        "    w1 = np.random.rand(10, 784) - 0.5\n",
        "    b1 = np.random.rand(10, 1) - 0.5\n",
        "    w2 = np.random.rand(10, 10) - 0.5\n",
        "    b2 = np.random.rand(10, 1) - 0.5\n",
        "    return w1,b1,w2,b2"
      ],
      "metadata": {
        "execution": {
          "iopub.status.busy": "2023-11-05T08:55:14.672079Z",
          "iopub.execute_input": "2023-11-05T08:55:14.672299Z",
          "iopub.status.idle": "2023-11-05T08:55:14.683238Z",
          "shell.execute_reply.started": "2023-11-05T08:55:14.672280Z",
          "shell.execute_reply": "2023-11-05T08:55:14.682061Z"
        },
        "trusted": true,
        "id": "V-AXOuDvFyfE"
      },
      "execution_count": null,
      "outputs": []
    },
    {
      "cell_type": "markdown",
      "source": [
        "*Rectified Linear Unit (ReLU) activation *"
      ],
      "metadata": {
        "id": "Cj6dXYArFyfF"
      }
    },
    {
      "cell_type": "markdown",
      "source": [
        "Math Functions Down Here"
      ],
      "metadata": {
        "id": "hAQz8pETFyfF"
      }
    },
    {
      "cell_type": "code",
      "source": [
        "def ReLU(Z):\n",
        "    return np.maximum(Z,0)\n",
        "\n",
        "def SoftMax(Z):\n",
        "    return np.exp(Z) / sum(np.exp(Z))\n",
        "    # exp(Z) # to calculate the exponential function\n",
        "\n",
        "def ReLU_derivative(Z):\n",
        "    return Z > 0 # returns 0 or 1"
      ],
      "metadata": {
        "execution": {
          "iopub.status.busy": "2023-11-05T08:55:14.684655Z",
          "iopub.execute_input": "2023-11-05T08:55:14.684931Z",
          "iopub.status.idle": "2023-11-05T08:55:14.693305Z",
          "shell.execute_reply.started": "2023-11-05T08:55:14.684907Z",
          "shell.execute_reply": "2023-11-05T08:55:14.692634Z"
        },
        "trusted": true,
        "id": "Hih1WrIHFyfF"
      },
      "execution_count": null,
      "outputs": []
    },
    {
      "cell_type": "markdown",
      "source": [
        "**\"One-hot encoding\" is a technique used in data preprocessing, primarily in the context of categorical data, to represent categorical variables as binary vectors.**"
      ],
      "metadata": {
        "id": "6ebnORz9FyfG"
      }
    },
    {
      "cell_type": "code",
      "source": [
        "def one_hot(Y):\n",
        "    oh_Y = np.zeros((Y.size, Y.max()+1))\n",
        "    oh_Y[np.arange(Y.size), Y] = 1\n",
        "    return oh_Y.T"
      ],
      "metadata": {
        "execution": {
          "iopub.status.busy": "2023-11-05T08:55:14.694275Z",
          "iopub.execute_input": "2023-11-05T08:55:14.695203Z",
          "iopub.status.idle": "2023-11-05T08:55:14.705357Z",
          "shell.execute_reply.started": "2023-11-05T08:55:14.695176Z",
          "shell.execute_reply": "2023-11-05T08:55:14.704202Z"
        },
        "trusted": true,
        "id": "R01Gvq3UFyfG"
      },
      "execution_count": null,
      "outputs": []
    },
    {
      "cell_type": "code",
      "source": [
        "def forward_prop(w1,b1,w2,b2,X):\n",
        "    z1 = w1.dot(X) + b1\n",
        "    a1 = ReLU(z1)\n",
        "    z2 = w2.dot(a1) + b2\n",
        "    a2 = SoftMax(z2)\n",
        "    return z1,a1,z2,a2\n",
        "\n",
        "def backward_prop(z1,a1,z2,a2,w1,w2,X,Y):\n",
        "    one_hot_Y = one_hot(Y)\n",
        "    dz2 = a2 - one_hot_Y\n",
        "    dw2 = 1/m * dz2.dot(a1.T)\n",
        "    db2 = 1/m * np.sum(dz2)\n",
        "    dz1 = w2.T.dot(dz2) * ReLU_derivative(z1)\n",
        "    dw1 = 1/m * dz1.dot(X.T)\n",
        "    db1 = 1/m * np.sum(dz1)\n",
        "    return dw1,db1,dw2,db2\n",
        "\n",
        "def update_params(w1,b1,w2,b2,dw1,db1,dw2,db2, alpha):\n",
        "    w1 = w1 - alpha * dw1\n",
        "    b1 = b1 - alpha * db1\n",
        "    w2 = w2 - alpha * dw2\n",
        "    b2 = b2 - alpha * db2\n",
        "    return w1,b1,w2,b2"
      ],
      "metadata": {
        "execution": {
          "iopub.status.busy": "2023-11-05T08:55:14.706583Z",
          "iopub.execute_input": "2023-11-05T08:55:14.707134Z",
          "iopub.status.idle": "2023-11-05T08:55:14.716423Z",
          "shell.execute_reply.started": "2023-11-05T08:55:14.707110Z",
          "shell.execute_reply": "2023-11-05T08:55:14.715772Z"
        },
        "trusted": true,
        "id": "ceKKPx0AFyfG"
      },
      "execution_count": null,
      "outputs": []
    },
    {
      "cell_type": "code",
      "source": [
        "def return_class(a):\n",
        "    return np.argmax(a,0) # o find the index (or indices) of the maximum value in an array\n",
        "\n",
        "def accuracy_score(prediction,Y):\n",
        "    print(prediction, Y)\n",
        "    return np.sum(prediction == Y) / Y.size\n",
        "\n",
        "def gradient_descent(X, Y,alpha,n_of_itr):\n",
        "    w1,b1,w2,b2 = init_params()\n",
        "    for i in range(n_of_itr):\n",
        "        z1,a1,z2,a2 = forward_prop(w1,b1,w2,b2,X)\n",
        "        dw1,db1,dw2,db2 = backward_prop(z1,a1,z2,a2,w1,w2,X,Y)\n",
        "        w1,b1,w2,b2 = update_params(w1,b1,w2,b2,dw1,db1,dw2,db2,alpha)\n",
        "        if i % 50 == 0:\n",
        "            print('Iteration No :  ',i)\n",
        "            prediction = return_class(a2)\n",
        "            print(accuracy_score(prediction, Y))\n",
        "    return w1,b1,w2,b2"
      ],
      "metadata": {
        "execution": {
          "iopub.status.busy": "2023-11-05T08:55:14.717556Z",
          "iopub.execute_input": "2023-11-05T08:55:14.717783Z",
          "iopub.status.idle": "2023-11-05T08:55:14.728187Z",
          "shell.execute_reply.started": "2023-11-05T08:55:14.717764Z",
          "shell.execute_reply": "2023-11-05T08:55:14.727055Z"
        },
        "trusted": true,
        "id": "Mfckdv_LFyfG"
      },
      "execution_count": null,
      "outputs": []
    },
    {
      "cell_type": "code",
      "source": [
        "w1,b1,w2,b2 = gradient_descent(X_train,Y_train, 0.10,1300)"
      ],
      "metadata": {
        "execution": {
          "iopub.status.busy": "2023-11-05T08:55:14.729317Z",
          "iopub.execute_input": "2023-11-05T08:55:14.729586Z",
          "iopub.status.idle": "2023-11-05T08:55:28.830799Z",
          "shell.execute_reply.started": "2023-11-05T08:55:14.729565Z",
          "shell.execute_reply": "2023-11-05T08:55:28.830063Z"
        },
        "trusted": true,
        "colab": {
          "base_uri": "https://localhost:8080/"
        },
        "id": "Z5jHLmKcFyfH",
        "outputId": "d78fb350-d905-4e40-bfae-3c78a3cda1d0"
      },
      "execution_count": null,
      "outputs": [
        {
          "output_type": "stream",
          "name": "stdout",
          "text": [
            "Iteration No :   0\n",
            "[9 7 7 ... 7 7 7] [7 1 1 ... 9 8 5]\n",
            "0.09101011223469274\n",
            "Iteration No :   50\n",
            "[0 1 1 ... 6 8 8] [7 1 1 ... 9 8 5]\n",
            "0.37193021446827423\n",
            "Iteration No :   100\n",
            "[9 1 1 ... 2 4 5] [7 1 1 ... 9 8 5]\n",
            "0.5080564507167463\n",
            "Iteration No :   150\n",
            "[7 1 1 ... 4 4 5] [7 1 1 ... 9 8 5]\n",
            "0.6630736748527614\n",
            "Iteration No :   200\n",
            "[7 1 1 ... 4 4 5] [7 1 1 ... 9 8 5]\n",
            "0.7216357373041449\n",
            "Iteration No :   250\n",
            "[7 1 1 ... 4 4 5] [7 1 1 ... 9 8 5]\n",
            "0.7563062562506945\n",
            "Iteration No :   300\n",
            "[7 1 1 ... 4 8 5] [7 1 1 ... 9 8 5]\n",
            "0.784198244249361\n",
            "Iteration No :   350\n",
            "[7 1 1 ... 4 8 5] [7 1 1 ... 9 8 5]\n",
            "0.8074230470052228\n",
            "Iteration No :   400\n",
            "[7 1 1 ... 4 8 5] [7 1 1 ... 9 8 5]\n",
            "0.8232025780642294\n",
            "Iteration No :   450\n",
            "[7 1 1 ... 4 8 5] [7 1 1 ... 9 8 5]\n",
            "0.8388709856650739\n",
            "Iteration No :   500\n",
            "[7 1 1 ... 4 8 5] [7 1 1 ... 9 8 5]\n",
            "0.8490943438159796\n",
            "Iteration No :   550\n",
            "[7 1 1 ... 4 8 5] [7 1 1 ... 9 8 5]\n",
            "0.8564284920546728\n",
            "Iteration No :   600\n",
            "[7 1 1 ... 4 8 5] [7 1 1 ... 9 8 5]\n",
            "0.8626514057117457\n",
            "Iteration No :   650\n",
            "[7 1 1 ... 4 8 5] [7 1 1 ... 9 8 5]\n",
            "0.8669852205800644\n",
            "Iteration No :   700\n",
            "[7 1 1 ... 4 8 5] [7 1 1 ... 9 8 5]\n",
            "0.8692076897433048\n",
            "Iteration No :   750\n",
            "[7 1 1 ... 4 8 5] [7 1 1 ... 9 8 5]\n",
            "0.8729858873208134\n",
            "Iteration No :   800\n",
            "[7 1 1 ... 4 8 5] [7 1 1 ... 9 8 5]\n",
            "0.876541837981998\n",
            "Iteration No :   850\n",
            "[7 1 1 ... 4 8 5] [7 1 1 ... 9 8 5]\n",
            "0.8787643071452383\n",
            "Iteration No :   900\n",
            "[7 1 1 ... 4 8 5] [7 1 1 ... 9 8 5]\n",
            "0.8809867763084788\n",
            "Iteration No :   950\n",
            "[7 1 1 ... 4 8 5] [7 1 1 ... 9 8 5]\n",
            "0.8837648627625292\n",
            "Iteration No :   1000\n",
            "[7 1 1 ... 4 8 5] [7 1 1 ... 9 8 5]\n",
            "0.8860984553839315\n",
            "Iteration No :   1050\n",
            "[7 1 1 ... 4 8 5] [7 1 1 ... 9 8 5]\n",
            "0.8887654183798199\n",
            "Iteration No :   1100\n",
            "[7 1 1 ... 4 8 5] [7 1 1 ... 9 8 5]\n",
            "0.8908767640848984\n",
            "Iteration No :   1150\n",
            "[7 1 1 ... 4 8 5] [7 1 1 ... 9 8 5]\n",
            "0.8932103567063007\n",
            "Iteration No :   1200\n",
            "[7 1 1 ... 4 8 5] [7 1 1 ... 9 8 5]\n",
            "0.8938770974552728\n",
            "Iteration No :   1250\n",
            "[7 1 1 ... 4 8 5] [7 1 1 ... 9 8 5]\n",
            "0.8956550727858651\n"
          ]
        }
      ]
    },
    {
      "cell_type": "code",
      "source": [
        "def make_predictions(w1, b1, w2, b2,X):\n",
        "    _, _, _, a2 = forward_prop(w1, b1, w2, b2, X)\n",
        "    predictions = return_class(a2)\n",
        "    return predictions\n",
        "\n",
        "def test_prediction(w1, b1, w2, b2,i):\n",
        "    img_data = X_train[:, i, None]\n",
        "    prediction = make_predictions(w1, b1, w2, b2,X_train[:, i, None])\n",
        "    label = Y_train[i]\n",
        "    print(\"Prediction: \", prediction)\n",
        "    print(\"Label: \", label)\n",
        "\n",
        "    img_data = img_data.reshape((28, 28)) * 255\n",
        "    plt.gray()\n",
        "    plt.imshow(img_data, interpolation='nearest')\n",
        "    plt.show()"
      ],
      "metadata": {
        "execution": {
          "iopub.status.busy": "2023-11-05T08:55:28.832019Z",
          "iopub.execute_input": "2023-11-05T08:55:28.832493Z",
          "iopub.status.idle": "2023-11-05T08:55:28.838520Z",
          "shell.execute_reply.started": "2023-11-05T08:55:28.832466Z",
          "shell.execute_reply": "2023-11-05T08:55:28.837850Z"
        },
        "trusted": true,
        "id": "D11GeetJFyfH"
      },
      "execution_count": null,
      "outputs": []
    },
    {
      "cell_type": "code",
      "source": [
        "print('Example Prediction ')\n",
        "test_prediction(w1, b1, w2, b2,8)"
      ],
      "metadata": {
        "execution": {
          "iopub.status.busy": "2023-11-05T08:55:28.839731Z",
          "iopub.execute_input": "2023-11-05T08:55:28.840209Z",
          "iopub.status.idle": "2023-11-05T08:55:29.026457Z",
          "shell.execute_reply.started": "2023-11-05T08:55:28.840183Z",
          "shell.execute_reply": "2023-11-05T08:55:29.025554Z"
        },
        "trusted": true,
        "colab": {
          "base_uri": "https://localhost:8080/",
          "height": 482
        },
        "id": "CLp9xEI1FyfH",
        "outputId": "9fb957f6-37d8-43e8-bf95-4bc2e63fcee1"
      },
      "execution_count": null,
      "outputs": [
        {
          "output_type": "stream",
          "name": "stdout",
          "text": [
            "Example Prediction \n",
            "Prediction:  [2]\n",
            "Label:  2\n"
          ]
        },
        {
          "output_type": "display_data",
          "data": {
            "text/plain": [
              "<Figure size 640x480 with 1 Axes>"
            ],
            "image/png": "[encoded data removed]"
          },
          "metadata": {}
        }
      ]
    },
    {
      "cell_type": "code",
      "source": [
        "test_prediction(w1, b1, w2, b2,int(input('Enter an index to test the model')))"
      ],
      "metadata": {
        "execution": {
          "iopub.status.busy": "2023-11-05T08:55:29.029109Z",
          "iopub.execute_input": "2023-11-05T08:55:29.029391Z",
          "iopub.status.idle": "2023-11-05T08:55:54.548460Z",
          "shell.execute_reply.started": "2023-11-05T08:55:29.029370Z",
          "shell.execute_reply": "2023-11-05T08:55:54.547563Z"
        },
        "trusted": true,
        "colab": {
          "base_uri": "https://localhost:8080/",
          "height": 482
        },
        "id": "uKh6H9uvFyfH",
        "outputId": "94845e82-aca5-4092-b221-4c4b7ccb3fc8"
      },
      "execution_count": null,
      "outputs": [
        {
          "output_type": "stream",
          "name": "stdout",
          "text": [
            "Enter an index to test the model10\n",
            "Prediction:  [7]\n",
            "Label:  7\n"
          ]
        },
        {
          "output_type": "display_data",
          "data": {
            "text/plain": [
              "<Figure size 640x480 with 1 Axes>"
            ],
            "image/png": "[encoded data removed]"
          },
          "metadata": {}
        }
      ]
    }
  ]
}